{
 "cells": [
  {
   "cell_type": "code",
   "execution_count": 1,
   "metadata": {},
   "outputs": [],
   "source": [
    "import numpy as np\n",
    "import matplotlib.pyplot as plt"
   ]
  },
  {
   "cell_type": "code",
   "execution_count": 2,
   "metadata": {},
   "outputs": [],
   "source": [
    "def difference_approximation_method(func_coeff, borders, n):\n",
    "    (xa, ya), (xb, yb) = borders[0], borders[1]\n",
    "    h = (xb - xa) / n\n",
    "    x_vector = np.empty(n + 1)\n",
    "    A = np.zeros((n + 1, n + 1))\n",
    "    b = np.empty(n + 1)\n",
    "    \n",
    "    for i in range(n + 1):\n",
    "        x = xa + h * i\n",
    "        x_vector[i] = x\n",
    "        \n",
    "        if i == 0:\n",
    "            A[i][i] = 1\n",
    "            b[i] = ya\n",
    "        elif i == n:\n",
    "            A[i][i] = 1\n",
    "            b[i] = yb\n",
    "        else:\n",
    "            A[i][i - 1] = 2 * func_coeff[0](x) - h * func_coeff[1](x)\n",
    "            A[i][i] = 2 * h ** 2 * func_coeff[2](x) - 4 * func_coeff[0](x)\n",
    "            A[i][i + 1] = 2 * func_coeff[0](x) + h * func_coeff[1](x)\n",
    "            b[i] = 2 * h ** 2 * func_coeff[3](x)\n",
    "    \n",
    "    y_vector = np.linalg.solve(A, b)\n",
    "    return x_vector, y_vector"
   ]
  },
  {
   "cell_type": "code",
   "execution_count": 3,
   "metadata": {},
   "outputs": [],
   "source": [
    "def iteration(func_coeff, borders, eps):\n",
    "    n = 2\n",
    "    result = []\n",
    "    while True:\n",
    "        x_vector1, y_vector1 = difference_approximation_method(func_coeff, borders, n)\n",
    "        x_vector2, y_vector2 = difference_approximation_method(func_coeff, borders, 2 * n)\n",
    "        max_diff = max([abs(y_vector2[2 * i] - y_vector1[i]) for i in range(n + 1)])\n",
    "        result.append((x_vector1, y_vector1))\n",
    "        if max_diff < eps:\n",
    "            return result\n",
    "        n *= 2"
   ]
  },
  {
   "cell_type": "code",
   "execution_count": null,
   "metadata": {},
   "outputs": [],
   "source": []
  }
 ],
 "metadata": {
  "kernelspec": {
   "display_name": "Python 3",
   "language": "python",
   "name": "python3"
  },
  "language_info": {
   "codemirror_mode": {
    "name": "ipython",
    "version": 3
   },
   "file_extension": ".py",
   "mimetype": "text/x-python",
   "name": "python",
   "nbconvert_exporter": "python",
   "pygments_lexer": "ipython3",
   "version": "3.7.4"
  }
 },
 "nbformat": 4,
 "nbformat_minor": 2
}
