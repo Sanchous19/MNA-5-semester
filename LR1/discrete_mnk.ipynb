{
 "cells": [
  {
   "cell_type": "code",
   "execution_count": 18,
   "metadata": {},
   "outputs": [
    {
     "name": "stdout",
     "output_type": "stream",
     "text": [
      "0.9320564094711127\n"
     ]
    },
    {
     "data": {
      "image/png": "[encoded data removed]",
      "text/plain": [
       "<Figure size 432x288 with 1 Axes>"
      ]
     },
     "metadata": {
      "needs_background": "light"
     },
     "output_type": "display_data"
    }
   ],
   "source": [
    "import numpy as np\n",
    "import matplotlib.pyplot as plt\n",
    "from scipy.misc import derivative\n",
    "from scipy.integrate import quad\n",
    "from functools import reduce\n",
    "\n",
    "\n",
    "def define_base_system(n):\n",
    "    def generate_function(power):\n",
    "        def f(x):\n",
    "            return x ** power * (1 - x ** 2)\n",
    "        return f\n",
    "\n",
    "    return [generate_function(i) for i in range(n)]\n",
    "\n",
    "\n",
    "def discrete_mnk(func_coeff, base_system, x_vector):\n",
    "    n = len(base_system)\n",
    "    A = np.zeros((n, n))\n",
    "    b = np.zeros(n)\n",
    "    \n",
    "    coeff = np.empty((n, n))\n",
    "    for i, f in enumerate(base_system):\n",
    "        for j, x in enumerate(x_vector):\n",
    "            coeff[i][j] = (\n",
    "                func_coeff[0](x) * derivative(func=f, x0=x, dx=1e-3, n=2) +\n",
    "                func_coeff[1](x) * derivative(func=f, x0=x, dx=1e-3, n=1) +\n",
    "                func_coeff[2](x) * f(x)\n",
    "            )\n",
    "    \n",
    "    for i in range(n):\n",
    "        for j in range(n):\n",
    "            for k in range(n):\n",
    "                A[i][j] += coeff[j][k] * coeff[i][k]\n",
    "\n",
    "        for k, x in enumerate(x_vector):\n",
    "            b[i] += func_coeff[3](x) * coeff[i][k]\n",
    "    return np.linalg.solve(A, b)\n",
    "\n",
    "\n",
    "def r(x):\n",
    "    return 1\n",
    "\n",
    "\n",
    "def p(x):\n",
    "    return 0\n",
    "\n",
    "\n",
    "def q(x):\n",
    "    return 1 + x ** 2\n",
    "\n",
    "\n",
    "def f(x):\n",
    "    return -1\n",
    "\n",
    "\n",
    "n = 100\n",
    "xa, xb = -1, 1\n",
    "h = (xb - xa) / (n + 1)\n",
    "x_vector = [xa + i * h for i in range(1, n + 1)]\n",
    "func_coeff = (r, p, q, f)\n",
    "base_system = define_base_system(n)\n",
    "coeff = discrete_mnk(func_coeff, base_system, x_vector)\n",
    "\n",
    "h = 0.1\n",
    "x_vector = np.arange(xa, xb + h, h)\n",
    "y_vector = np.array([reduce(\n",
    "                        lambda prev_el, next_el: prev_el + next_el[0] * next_el[1](x),\n",
    "                        zip(coeff, base_system),\n",
    "                        0,\n",
    "                     ) for x in x_vector])\n",
    "print(max(y_vector))\n",
    "plt.plot(x_vector, y_vector)\n",
    "plt.grid()\n",
    "plt.show()"
   ]
  },
  {
   "cell_type": "code",
   "execution_count": null,
   "metadata": {},
   "outputs": [],
   "source": []
  }
 ],
 "metadata": {
  "kernelspec": {
   "display_name": "Python 3",
   "language": "python",
   "name": "python3"
  },
  "language_info": {
   "codemirror_mode": {
    "name": "ipython",
    "version": 3
   },
   "file_extension": ".py",
   "mimetype": "text/x-python",
   "name": "python",
   "nbconvert_exporter": "python",
   "pygments_lexer": "ipython3",
   "version": "3.6.7"
  }
 },
 "nbformat": 4,
 "nbformat_minor": 2
}
