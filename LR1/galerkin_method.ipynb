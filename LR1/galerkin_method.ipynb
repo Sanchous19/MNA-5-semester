{
 "cells": [
  {
   "cell_type": "code",
   "execution_count": 3,
   "metadata": {},
   "outputs": [
    {
     "name": "stdout",
     "output_type": "stream",
     "text": [
      "0.9320537182757779\n"
     ]
    },
    {
     "data": {
      "image/png": "[encoded data removed]",
      "text/plain": [
       "<Figure size 432x288 with 1 Axes>"
      ]
     },
     "metadata": {
      "needs_background": "light"
     },
     "output_type": "display_data"
    }
   ],
   "source": [
    "import numpy as np\n",
    "import matplotlib.pyplot as plt\n",
    "from scipy.integrate import quad\n",
    "from functools import reduce\n",
    "\n",
    "\n",
    "def define_base_system(n):\n",
    "    def generate_function(power):\n",
    "        def f(x):\n",
    "            return x ** power * (1 - x ** 2)\n",
    "        return f\n",
    "\n",
    "    return [generate_function(i) for i in range(n)]\n",
    "\n",
    "\n",
    "def define_derivative2_base_system(n):\n",
    "    def generate_function(power):\n",
    "        if (power == 0):\n",
    "            return lambda x: -2\n",
    "        elif (power == 1):\n",
    "            return lambda x: -6 * x\n",
    "        else:\n",
    "            return lambda x: power * (power - 1) * x ** (power - 2) - (power + 2) * (power + 1) * x ** power\n",
    "\n",
    "    return [generate_function(i) for i in range(n)]\n",
    "\n",
    "\n",
    "def mul_integral(functions, x1, x2):\n",
    "    def func(x):\n",
    "        res = 0\n",
    "        for funs in functions:\n",
    "            res += reduce(lambda prev, next: prev * next, [f(x) for f in funs])\n",
    "        return res\n",
    "\n",
    "    result = quad(func, x1, x2)[0]\n",
    "    return result\n",
    "\n",
    "\n",
    "def galerkin_method(func_coeff, base_system, derivative2_base_system, borders):\n",
    "    x1, x2 = borders\n",
    "    n = len(base_system)\n",
    "    A = np.zeros((n, n))\n",
    "    b = np.zeros(n)\n",
    "    \n",
    "    for i in range(n):\n",
    "        for j in range(n):\n",
    "            coefficients_functions = (\n",
    "                (func_coeff[0], derivative2_base_system[j], base_system[i]),\n",
    "                (func_coeff[2], base_system[j], base_system[i]),\n",
    "            )\n",
    "            A[i][j] = mul_integral(coefficients_functions, x1, x2)\n",
    "\n",
    "        b[i] = mul_integral(((func_coeff[3], base_system[i]),), x1, x2)\n",
    "    return np.linalg.solve(A, b)\n",
    "\n",
    "\n",
    "def r(x):\n",
    "    return 1\n",
    "\n",
    "\n",
    "def p(x):\n",
    "    return 0\n",
    "\n",
    "\n",
    "def q(x):\n",
    "    return 1 + x ** 2\n",
    "\n",
    "\n",
    "def f(x):\n",
    "    return -1\n",
    "\n",
    "\n",
    "n = 100\n",
    "xa, xb = -1, 1\n",
    "func_coeff = (r, p, q, f)\n",
    "base_system = define_base_system(n)\n",
    "derivative2_base_system = define_derivative2_base_system(n)\n",
    "coeff = galerkin_method(func_coeff, base_system, derivative2_base_system, (xa, xb))\n",
    "\n",
    "h = 0.1\n",
    "x_vector = np.arange(xa, xb + h, h)\n",
    "y_vector = np.array([reduce(\n",
    "                        lambda prev_el, next_el: prev_el + next_el[0] * next_el[1](x),\n",
    "                        zip(coeff, base_system),\n",
    "                        0,\n",
    "                     ) for x in x_vector])\n",
    "print(max(y_vector))\n",
    "plt.plot(x_vector, y_vector)\n",
    "plt.grid()\n",
    "plt.show()"
   ]
  },
  {
   "cell_type": "code",
   "execution_count": null,
   "metadata": {},
   "outputs": [],
   "source": []
  }
 ],
 "metadata": {
  "kernelspec": {
   "display_name": "Python 3",
   "language": "python",
   "name": "python3"
  },
  "language_info": {
   "codemirror_mode": {
    "name": "ipython",
    "version": 3
   },
   "file_extension": ".py",
   "mimetype": "text/x-python",
   "name": "python",
   "nbconvert_exporter": "python",
   "pygments_lexer": "ipython3",
   "version": "3.7.4"
  }
 },
 "nbformat": 4,
 "nbformat_minor": 2
}
