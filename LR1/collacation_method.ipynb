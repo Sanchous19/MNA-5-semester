{
 "cells": [
  {
   "cell_type": "code",
   "execution_count": 2,
   "metadata": {},
   "outputs": [
    {
     "name": "stdout",
     "output_type": "stream",
     "text": [
      "0.9365696959885692\n"
     ]
    },
    {
     "data": {
      "image/png": "[encoded data removed]",
      "text/plain": [
       "<Figure size 432x288 with 1 Axes>"
      ]
     },
     "metadata": {
      "needs_background": "light"
     },
     "output_type": "display_data"
    }
   ],
   "source": [
    "import numpy as np\n",
    "import matplotlib.pyplot as plt\n",
    "from scipy.misc import derivative\n",
    "from functools import reduce\n",
    "\n",
    "\n",
    "def define_base_system(n):\n",
    "    def generate_function(power):\n",
    "        def f(x):\n",
    "            return x ** power * (1 - x ** 2)\n",
    "        return f\n",
    "\n",
    "    return [generate_function(i) for i in range(n)]\n",
    "\n",
    "\n",
    "def collacation_method(func_coeff, base_system, borders):\n",
    "    xa, xb = borders\n",
    "    n = len(base_system)\n",
    "    h = (xb - xa) / (n + 1)\n",
    "    A = np.empty((n, n))\n",
    "    b = np.empty(n)\n",
    "    for i in range(n):\n",
    "        x = xa + (i + 1) * h\n",
    "\n",
    "        for j in range(n):\n",
    "            A[i][j] = (\n",
    "                    func_coeff[0](x) * derivative(func=base_system[j], x0=x, dx=1e-3, n=2) +\n",
    "                    func_coeff[1](x) * derivative(func=base_system[j], x0=x, dx=1e-3, n=1) +\n",
    "                    func_coeff[2](x) * base_system[j](x)\n",
    "            )\n",
    "\n",
    "        b[i] = func_coeff[3](x)\n",
    "\n",
    "    return np.linalg.solve(A, b)\n",
    "\n",
    "\n",
    "def r(x):\n",
    "    return 1\n",
    "\n",
    "\n",
    "def p(x):\n",
    "    return 0\n",
    "\n",
    "\n",
    "def q(x):\n",
    "    return 1 + x ** 2\n",
    "\n",
    "\n",
    "def f(x):\n",
    "    return -1\n",
    "\n",
    "\n",
    "xa, xb = -1, 1\n",
    "func_coeff = (r, p, q, f)\n",
    "base_system = define_base_system(100)\n",
    "coeff = collacation_method(func_coeff, base_system, (xa, xb))\n",
    "\n",
    "h = 0.1\n",
    "x_vector = np.arange(xa, xb + h, h)\n",
    "y_vector = np.array([reduce(\n",
    "                        lambda prev_el, next_el: prev_el + next_el[0] * next_el[1](x),\n",
    "                        zip(coeff, base_system),\n",
    "                        0,\n",
    "                     ) for x in x_vector])\n",
    "print(max(y_vector))\n",
    "plt.plot(x_vector, y_vector)\n",
    "plt.grid()\n",
    "plt.show()"
   ]
  },
  {
   "cell_type": "code",
   "execution_count": null,
   "metadata": {},
   "outputs": [],
   "source": []
  }
 ],
 "metadata": {
  "kernelspec": {
   "display_name": "Python 3",
   "language": "python",
   "name": "python3"
  },
  "language_info": {
   "codemirror_mode": {
    "name": "ipython",
    "version": 3
   },
   "file_extension": ".py",
   "mimetype": "text/x-python",
   "name": "python",
   "nbconvert_exporter": "python",
   "pygments_lexer": "ipython3",
   "version": "3.6.7"
  }
 },
 "nbformat": 4,
 "nbformat_minor": 2
}
